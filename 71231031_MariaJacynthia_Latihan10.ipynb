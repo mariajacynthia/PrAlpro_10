{
 "cells": [
  {
   "cell_type": "code",
   "execution_count": 14,
   "metadata": {},
   "outputs": [
    {
     "name": "stdout",
     "output_type": "stream",
     "text": [
      "key     value    item\n",
      "1       10       1\n",
      "2       20       2\n",
      "3       30       3\n",
      "4       40       4\n",
      "5       50       5\n",
      "6       60       6\n"
     ]
    }
   ],
   "source": [
    "#soal 10-1\n",
    "dic = {1: 10, 2: 20, 3: 30, 4: 40, 5: 50, 6: 60}\n",
    "\n",
    "print(\"key     value    item\")\n",
    "for key, val in dic.items():\n",
    "    print(f\"{key}       {val}       {key}\")\n"
   ]
  },
  {
   "cell_type": "code",
   "execution_count": 15,
   "metadata": {},
   "outputs": [
    {
     "name": "stdout",
     "output_type": "stream",
     "text": [
      "{'red': '#FF0000', 'green': '#008000', 'blue': '#0000FF'}\n"
     ]
    }
   ],
   "source": [
    "#soal 10-2\n",
    "listsatu = ['red','green','blue']\n",
    "listdua = ['#FF0000','#008000','#0000FF']\n",
    "\n",
    "hasil = {}\n",
    "\n",
    "for c, y in zip(listsatu,listdua):\n",
    "    hasil[c] = y\n",
    "print(hasil)"
   ]
  },
  {
   "cell_type": "code",
   "execution_count": 8,
   "metadata": {},
   "outputs": [
    {
     "name": "stdout",
     "output_type": "stream",
     "text": [
      "{'stephen.marquard@uct.ac.za': 2, 'louis@media.berkeley.edu': 3, 'zqian@umich.edu': 4, 'rjlowe@iupui.edu': 2, 'cwen@iupui.edu': 5, 'gsilver@umich.edu': 3, 'wagnermr@iupui.edu': 1, 'antranig@caret.cam.ac.uk': 1, 'gopal.ramasammycook@gmail.com': 1, 'david.horwitz@uct.ac.za': 4, 'ray@media.berkeley.edu': 1}\n"
     ]
    }
   ],
   "source": [
    "#soal 10-3\n",
    "namafile = input(\"masukkan nama file: \")\n",
    "try:\n",
    "    file = open(namafile, 'r')\n",
    "except:\n",
    "    print(\"file tidak dapat dibuka.\", namafile)\n",
    "    quit()\n",
    "\n",
    "hitungemail = {}\n",
    "\n",
    "for baris in file:\n",
    "    if baris.startswith('From '):\n",
    "        kata = baris.split()\n",
    "        email = kata[1]\n",
    "        hitungemail[email] = hitungemail.get(email, 0) + 1\n",
    "\n",
    "file.close()\n",
    "print(hitungemail)"
   ]
  },
  {
   "cell_type": "code",
   "execution_count": 9,
   "metadata": {},
   "outputs": [
    {
     "name": "stdout",
     "output_type": "stream",
     "text": [
      "{'uct.ac.za': 6, 'media.berkeley.edu': 4, 'umich.edu': 7, 'iupui.edu': 8, 'caret.cam.ac.uk': 1, 'gmail.com': 1}\n"
     ]
    }
   ],
   "source": [
    "#soal 10-4\n",
    "namafile = input(\"masukkan nama file: \")\n",
    "try:\n",
    "    file = open(namafile, 'r')\n",
    "except:\n",
    "    print(\"file tidak dapat dibuka.\", namafile)\n",
    "    quit()\n",
    "\n",
    "hitungdomain = {}\n",
    "\n",
    "for baris in file:\n",
    "    if baris.startswith('From '):\n",
    "        kata = baris.split()\n",
    "        email = kata[1]\n",
    "        domain = email.split('@')[1]\n",
    "        hitungdomain[domain] = hitungdomain.get(domain, 0) + 1\n",
    "\n",
    "file.close()\n",
    "print(hitungdomain)"
   ]
  }
 ],
 "metadata": {
  "kernelspec": {
   "display_name": "Python 3",
   "language": "python",
   "name": "python3"
  },
  "language_info": {
   "codemirror_mode": {
    "name": "ipython",
    "version": 3
   },
   "file_extension": ".py",
   "mimetype": "text/x-python",
   "name": "python",
   "nbconvert_exporter": "python",
   "pygments_lexer": "ipython3",
   "version": "3.12.0"
  }
 },
 "nbformat": 4,
 "nbformat_minor": 2
}
